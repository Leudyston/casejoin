{
 "cells": [
  {
   "cell_type": "markdown",
   "metadata": {
    "application/vnd.databricks.v1+cell": {
     "cellMetadata": {},
     "inputWidgets": {},
     "nuid": "7292be53-ce0e-4964-bda2-67c61f949fa3",
     "showTitle": false,
     "title": ""
    }
   },
   "source": [
    "## Preparação"
   ]
  },
  {
   "cell_type": "code",
   "execution_count": 0,
   "metadata": {
    "application/vnd.databricks.v1+cell": {
     "cellMetadata": {
      "byteLimit": 2048000,
      "rowLimit": 10000
     },
     "inputWidgets": {},
     "nuid": "b0e271a1-0816-4db0-836f-58b97b0bc8d4",
     "showTitle": true,
     "title": "Importar Bibliotecas"
    }
   },
   "outputs": [],
   "source": [
    "import os\n",
    "from pyspark.sql import functions as F"
   ]
  },
  {
   "cell_type": "code",
   "execution_count": 0,
   "metadata": {
    "application/vnd.databricks.v1+cell": {
     "cellMetadata": {
      "byteLimit": 2048000,
      "rowLimit": 10000
     },
     "inputWidgets": {},
     "nuid": "aa1c4942-fbed-4d66-bcb0-06e2f751208a",
     "showTitle": true,
     "title": "Definir Parâmetros para Execução do Notebook"
    }
   },
   "outputs": [],
   "source": [
    "# Caminho onde os arquivos .parquet foram salvos\n",
    "landing_path = \"/join/landing/\"\n",
    "\n",
    "# Caminho para salvar os arquivos no formato Delta\n",
    "bronze_path = \"/join/bronze/\"\n",
    "\n",
    "# Configurações de conexão com Azure PostgreSQL\n",
    "jdbc_url = \"jdbc:postgresql://psql-mock-database-cloud.postgres.database.azure.com:5432/ecom1692155331663giqokzaqmuqlogbu\"\n",
    "jdbc_properties = {\n",
    "    \"user\": \"eolowynayhvayxbhluzaqxfp@psql-mock-database-cloud\",\n",
    "    \"password\": \"hdzvzutlssuozdonhflhwyjm\",\n",
    "    \"driver\": \"org.postgresql.Driver\"\n",
    "}\n"
   ]
  },
  {
   "cell_type": "code",
   "execution_count": 0,
   "metadata": {
    "application/vnd.databricks.v1+cell": {
     "cellMetadata": {
      "byteLimit": 2048000,
      "implicitDf": true,
      "rowLimit": 10000
     },
     "inputWidgets": {},
     "nuid": "58a08cd9-a2c4-40a1-83ff-c0d4cdd7e395",
     "showTitle": true,
     "title": "Criar de Schemas"
    }
   },
   "outputs": [
    {
     "output_type": "display_data",
     "data": {
      "text/html": [
       "<style scoped>\n",
       "  .table-result-container {\n",
       "    max-height: 300px;\n",
       "    overflow: auto;\n",
       "  }\n",
       "  table, th, td {\n",
       "    border: 1px solid black;\n",
       "    border-collapse: collapse;\n",
       "  }\n",
       "  th, td {\n",
       "    padding: 5px;\n",
       "  }\n",
       "  th {\n",
       "    text-align: left;\n",
       "  }\n",
       "</style><div class='table-result-container'><table class='table-result'><thead style='background-color: white'><tr></tr></thead><tbody></tbody></table></div>"
      ]
     },
     "metadata": {
      "application/vnd.databricks.v1+output": {
       "addedWidgets": {},
       "aggData": [],
       "aggError": "",
       "aggOverflow": false,
       "aggSchema": [],
       "aggSeriesLimitReached": false,
       "aggType": "",
       "arguments": {},
       "columnCustomDisplayInfos": {},
       "data": [],
       "datasetInfos": [],
       "dbfsResultPath": null,
       "isJsonSchema": true,
       "metadata": {
        "dataframeName": null
       },
       "overflow": false,
       "plotOptions": {
        "customPlotOptions": {},
        "displayType": "table",
        "pivotAggregation": null,
        "pivotColumns": null,
        "xColumns": null,
        "yColumns": null
       },
       "removedWidgets": [],
       "schema": [],
       "type": "table"
      }
     },
     "output_type": "display_data"
    }
   ],
   "source": [
    "%sql\n",
    "CREATE SCHEMA IF NOT EXISTS bronze;\n",
    "CREATE SCHEMA IF NOT EXISTS silver;\n"
   ]
  },
  {
   "cell_type": "code",
   "execution_count": 0,
   "metadata": {
    "application/vnd.databricks.v1+cell": {
     "cellMetadata": {
      "byteLimit": 2048000,
      "rowLimit": 10000
     },
     "inputWidgets": {},
     "nuid": "ee6a38ab-efb5-4419-aac8-29e3ead720b9",
     "showTitle": true,
     "title": "Identificar e criar lista de tabelas a serem extraidas"
    }
   },
   "outputs": [
    {
     "output_type": "stream",
     "name": "stdout",
     "output_type": "stream",
     "text": [
      "Tabelas encontradas: ['customers', 'employees', 'offices', 'orderdetails', 'orders', 'payments', 'product_lines', 'products']\n"
     ]
    }
   ],
   "source": [
    "# Consulta para obter a lista de tabelas\n",
    "list_tables_query = \"(SELECT table_name FROM information_schema.tables WHERE table_schema = 'public' AND table_name NOT IN ('pg_stat_statements','pg_buffercache')) AS tables\"\n",
    "\n",
    "# Ler as tabelas disponíveis\n",
    "tables_df = spark.read.jdbc(url=jdbc_url, table=list_tables_query, properties=jdbc_properties)\n",
    "tables = tables_df.select(\"table_name\").rdd.flatMap(lambda x: x).collect()\n",
    "\n",
    "# Exibir tabelas encontradas\n",
    "print(\"Tabelas encontradas:\", tables)\n"
   ]
  },
  {
   "cell_type": "markdown",
   "metadata": {
    "application/vnd.databricks.v1+cell": {
     "cellMetadata": {},
     "inputWidgets": {},
     "nuid": "861c4228-d87a-45f4-93ad-b5bbea5adbdb",
     "showTitle": false,
     "title": ""
    }
   },
   "source": [
    "## Extração do Dados"
   ]
  },
  {
   "cell_type": "code",
   "execution_count": 0,
   "metadata": {
    "application/vnd.databricks.v1+cell": {
     "cellMetadata": {
      "byteLimit": 2048000,
      "rowLimit": 10000
     },
     "inputWidgets": {},
     "nuid": "6727b6d0-78ab-49ea-b743-3263a6a696d5",
     "showTitle": true,
     "title": "Extrair dados das tabelas e Salvando na Landing"
    }
   },
   "outputs": [
    {
     "output_type": "stream",
     "name": "stdout",
     "output_type": "stream",
     "text": [
      "Tabela 'customers' salva em /join/landing/customers\nTabela 'employees' salva em /join/landing/employees\nTabela 'offices' salva em /join/landing/offices\nTabela 'orderdetails' salva em /join/landing/orderdetails\nTabela 'orders' salva em /join/landing/orders\nTabela 'payments' salva em /join/landing/payments\nTabela 'product_lines' salva em /join/landing/product_lines\nTabela 'products' salva em /join/landing/products\n"
     ]
    }
   ],
   "source": [
    "# Iterar sobre as tabelas e salvar cada uma como arquivo .parquet na landing\n",
    "for table in tables:\n",
    "    # Definir o caminho de destino para o arquivo parquet\n",
    "    table_path = os.path.join(landing_path, f\"{table}\")\n",
    "    \n",
    "    # Ler os dados da tabela\n",
    "    table_df = spark.read.jdbc(url=jdbc_url, table=table, properties=jdbc_properties)\n",
    "    \n",
    "    # Salvar os dados como .parquet\n",
    "    table_df.write.mode(\"overwrite\").parquet(table_path)\n",
    "    \n",
    "    # Mostrar um exemplo dos dados da tabela\n",
    "    # print(f\"Exibindo exemplo de dados para a tabela '{table}':\")\n",
    "    # table_df.show(5, truncate=False)  # Exibe as primeiras 5 linhas, não truncando o texto\n",
    "    \n",
    "    print(f\"Tabela '{table}' salva em {table_path}\")\n"
   ]
  },
  {
   "cell_type": "markdown",
   "metadata": {
    "application/vnd.databricks.v1+cell": {
     "cellMetadata": {},
     "inputWidgets": {},
     "nuid": "8981b4be-89cd-4369-a160-d4b696674e9c",
     "showTitle": false,
     "title": ""
    }
   },
   "source": [
    "## Carregamento dos Dados"
   ]
  },
  {
   "cell_type": "code",
   "execution_count": 0,
   "metadata": {
    "application/vnd.databricks.v1+cell": {
     "cellMetadata": {
      "byteLimit": 2048000,
      "rowLimit": 10000
     },
     "inputWidgets": {},
     "nuid": "5bdfe76a-6d7e-4d29-a39f-a36ab8092447",
     "showTitle": true,
     "title": "Criar arquivos na Camada Bronze"
    }
   },
   "outputs": [
    {
     "output_type": "stream",
     "name": "stdout",
     "output_type": "stream",
     "text": [
      "Tabela 'customers' salva em Delta em /join/bronze/customers\nTabela 'employees' salva em Delta em /join/bronze/employees\nTabela 'offices' salva em Delta em /join/bronze/offices\nTabela 'orderdetails' salva em Delta em /join/bronze/orderdetails\nTabela 'orders' salva em Delta em /join/bronze/orders\nTabela 'payments' salva em Delta em /join/bronze/payments\nTabela 'product_lines' salva em Delta em /join/bronze/product_lines\nTabela 'products' salva em Delta em /join/bronze/products\n"
     ]
    }
   ],
   "source": [
    "# Função para ler parquet, salvar em Delta na bronze.\n",
    "def convert_parquet_to_delta(table_name):\n",
    "    # Caminho para os arquivos .parquet e o destino Delta\n",
    "    parquet_path = os.path.join(landing_path, f\"{table_name}\")\n",
    "    delta_path = os.path.join(bronze_path, table_name)\n",
    "    \n",
    "    # Ler os dados do arquivo parquet\n",
    "    df = spark.read.parquet(f\"{parquet_path}\")\n",
    "    \n",
    "    # Escrever os dados no formato Delta\n",
    "    df.write.format(\"delta\").mode(\"overwrite\").save(f\"{delta_path}\")\n",
    "\n",
    "    # Ler e mostrar exemplos dos dados da tabela Delta\n",
    "    # print(f\"Exibindo exemplo de dados para a tabela '{table_name}':\")\n",
    "    # delta_df = spark.read.format(\"delta\").load(f\"{delta_path}\")\n",
    "    # delta_df.show(5, truncate=False)  # Exibe as primeiras 5 linhas, não truncando o texto\n",
    "    \n",
    "    print(f\"Tabela '{table_name}' salva em Delta em {delta_path}\")\n",
    "\n",
    "# Iterar sobre todas as tabelas e convertê-las\n",
    "for table in tables:\n",
    "    convert_parquet_to_delta(table)\n",
    "\n"
   ]
  },
  {
   "cell_type": "code",
   "execution_count": 0,
   "metadata": {
    "application/vnd.databricks.v1+cell": {
     "cellMetadata": {
      "byteLimit": 2048000,
      "rowLimit": 10000
     },
     "inputWidgets": {},
     "nuid": "62a0bc59-cd8d-4ebd-87ba-1dcdec6bb2ae",
     "showTitle": true,
     "title": "Criar Tabelas Bronze no Hive"
    }
   },
   "outputs": [
    {
     "output_type": "stream",
     "name": "stdout",
     "output_type": "stream",
     "text": [
      "Tabela Delta 'customers' criada no schema bronze em /join/bronze/customers\nTabela Delta 'employees' criada no schema bronze em /join/bronze/employees\nTabela Delta 'offices' criada no schema bronze em /join/bronze/offices\nTabela Delta 'orderdetails' criada no schema bronze em /join/bronze/orderdetails\nTabela Delta 'orders' criada no schema bronze em /join/bronze/orders\nTabela Delta 'payments' criada no schema bronze em /join/bronze/payments\nTabela Delta 'product_lines' criada no schema bronze em /join/bronze/product_lines\nTabela Delta 'products' criada no schema bronze em /join/bronze/products\n"
     ]
    }
   ],
   "source": [
    "# Função para criar uma tabela Delta no schema bronze\n",
    "def create_delta_table(table_name):\n",
    "    delta_path = os.path.join(bronze_path, table_name)\n",
    "    \n",
    "    # SQL para criar uma tabela Delta apontando para o caminho Delta\n",
    "    create_table_sql = f\"\"\"\n",
    "    CREATE TABLE IF NOT EXISTS bronze.{table_name}\n",
    "    USING DELTA\n",
    "    LOCATION '{delta_path}'\n",
    "    \"\"\"\n",
    "    \n",
    "    # Executar o comando SQL para criar a tabela Delta\n",
    "    spark.sql(create_table_sql)\n",
    "    \n",
    "    # Ler e mostrar exemplos dos dados da tabela Delta\n",
    "    # print(f\"Exibindo exemplo de dados para a tabela Delta '{table_name}':\")\n",
    "    # delta_df = spark.read.format(\"delta\").load(delta_path)\n",
    "    # delta_df.show(5, truncate=False)  # Exibe as primeiras 5 linhas, não truncando o texto\n",
    "    \n",
    "    print(f\"Tabela Delta '{table_name}' criada no schema bronze em {delta_path}\")\n",
    "\n",
    "# Iterar sobre todas as tabelas e criar as tabelas Delta\n",
    "for table in tables:\n",
    "    create_delta_table(table)\n"
   ]
  },
  {
   "cell_type": "markdown",
   "metadata": {
    "application/vnd.databricks.v1+cell": {
     "cellMetadata": {},
     "inputWidgets": {},
     "nuid": "313b5d5d-9c5d-4bbd-945b-00f2374ee250",
     "showTitle": false,
     "title": ""
    }
   },
   "source": [
    "#Tranformação dos Dados"
   ]
  },
  {
   "cell_type": "code",
   "execution_count": 0,
   "metadata": {
    "application/vnd.databricks.v1+cell": {
     "cellMetadata": {
      "byteLimit": 2048000,
      "implicitDf": true,
      "rowLimit": 10000
     },
     "inputWidgets": {},
     "nuid": "b358715b-2cec-409c-a7e5-0903bc56f0d1",
     "showTitle": true,
     "title": "País com maior quantidade de Ordens Canceladas"
    }
   },
   "outputs": [
    {
     "output_type": "stream",
     "name": "stdout",
     "output_type": "stream",
     "text": [
      "+-----------+---------------------+\n|       pais|qtd_ordens_canceladas|\n+-----------+---------------------+\n|New Zealand|                    2|\n+-----------+---------------------+\n\nTabela Delta ordens_canceladas criada no schema silver\n"
     ]
    }
   ],
   "source": [
    "# Criar DataFrame com valores da consulta\n",
    "ordens_canceladas = spark.sql(\"\"\"\n",
    "SELECT c.country as pais, COUNT(DISTINCT o.order_number) AS qtd_ordens_canceladas\n",
    "FROM bronze.orders o \n",
    "INNER JOIN bronze.customers c ON o.customer_number = c.customer_number\n",
    "WHERE o.status = 'Cancelled'\n",
    "GROUP BY 1\n",
    "ORDER BY 2 DESC\n",
    "LIMIT 1\n",
    "\"\"\")\n",
    "\n",
    "# Mostrar Valores\n",
    "ordens_canceladas.show()\n",
    "\n",
    "# Salvar o DataFrame no schema silver como uma tabela Hive\n",
    "ordens_canceladas.write \\\n",
    "    .mode(\"overwrite\") \\\n",
    "    .option(\"mergeSchema\", \"true\") \\\n",
    "    .saveAsTable(\"silver.ordens_canceladas\")\n",
    "\n",
    "print(f\"Tabela Delta ordens_canceladas criada no schema silver\")\n"
   ]
  },
  {
   "cell_type": "code",
   "execution_count": 0,
   "metadata": {
    "application/vnd.databricks.v1+cell": {
     "cellMetadata": {
      "byteLimit": 2048000,
      "implicitDf": true,
      "rowLimit": 10000
     },
     "inputWidgets": {},
     "nuid": "71366147-739d-4184-a8b4-20adb3f57c4c",
     "showTitle": true,
     "title": "País com mais quantidade de itens cancelados"
    }
   },
   "outputs": [
    {
     "output_type": "stream",
     "name": "stdout",
     "output_type": "stream",
     "text": [
      "+-----+--------------+\n| pais|qtd_canceladas|\n+-----+--------------+\n|Spain|           605|\n+-----+--------------+\n\nTabela Delta itens_cancelados criada no schema silver\n"
     ]
    }
   ],
   "source": [
    "# Criar DataFrame com valores da consulta\n",
    "itens_cancelados = spark.sql(\"\"\"\n",
    "select c.country as pais, SUM(od.quantity_ordered) qtd_canceladas\n",
    "from bronze.orders o \n",
    "inner join bronze.customers c on o.customer_number = c.customer_number\n",
    "inner join bronze.orderdetails od on o.order_number = od.order_number\n",
    "where status = 'Cancelled'\n",
    "group by 1\n",
    "order by 2 desc\n",
    "limit 1\n",
    "\"\"\")\n",
    "\n",
    "# Mostrar Valores\n",
    "itens_cancelados.show()\n",
    "\n",
    "# Salvar o DataFrame no schema silver como uma tabela Hive\n",
    "itens_cancelados.write \\\n",
    "    .mode(\"overwrite\") \\\n",
    "    .option(\"mergeSchema\", \"true\") \\\n",
    "    .saveAsTable(\"silver.itens_cancelados\")\n",
    "\n",
    "print(f\"Tabela Delta itens_cancelados criada no schema silver\")"
   ]
  },
  {
   "cell_type": "code",
   "execution_count": 0,
   "metadata": {
    "application/vnd.databricks.v1+cell": {
     "cellMetadata": {
      "byteLimit": 2048000,
      "implicitDf": true,
      "rowLimit": 10000
     },
     "inputWidgets": {},
     "nuid": "788d910a-8105-4a6e-b173-c0d994458f2d",
     "showTitle": true,
     "title": "Faturamento da Linha de Produto Mais Vendida"
    }
   },
   "outputs": [
    {
     "output_type": "stream",
     "name": "stdout",
     "output_type": "stream",
     "text": [
      "+----------------+----------+-----------+\n|linha_de_produto|Quantidade|Faturamento|\n+----------------+----------+-----------+\n|    Classic Cars|      5505|  603666.99|\n+----------------+----------+-----------+\n\nTabela Delta faturamento_linha criada no schema silver\n"
     ]
    }
   ],
   "source": [
    "# Criar DataFrame com valores da consulta\n",
    "faturamento_linha = spark.sql(\"\"\"\n",
    "    select pl.product_line as linha_de_produto, SUM(od.quantity_ordered) as Quantidade, SUM(od.quantity_ordered * od.price_each) as Faturamento\n",
    "    from bronze.orders o \n",
    "    inner join bronze.orderdetails od on o.order_number = od.order_number\n",
    "    inner join bronze.products p on od.product_code = p.product_code\n",
    "    inner join bronze.product_lines pl on p.product_line=pl.product_line\n",
    "    where o.status = 'Shipped'\n",
    "    AND year(o.order_date) = 2005 \n",
    "    group by 1\n",
    "    order by SUM(od.quantity_ordered) desc\n",
    "    limit 1\n",
    "    \"\"\")\n",
    "\n",
    "# Mostrar Valores\n",
    "faturamento_linha.show()\n",
    "\n",
    "# Salvar o DataFrame no schema silver como uma tabela Hive\n",
    "faturamento_linha.write \\\n",
    "    .mode(\"overwrite\") \\\n",
    "    .option(\"mergeSchema\", \"true\") \\\n",
    "    .saveAsTable(\"silver.faturamento_linha\")\n",
    "\n",
    "print(f\"Tabela Delta faturamento_linha criada no schema silver\")    "
   ]
  },
  {
   "cell_type": "code",
   "execution_count": 0,
   "metadata": {
    "application/vnd.databricks.v1+cell": {
     "cellMetadata": {
      "byteLimit": 2048000,
      "implicitDf": true,
      "rowLimit": 10000
     },
     "inputWidgets": {},
     "nuid": "48c35ae0-bd73-4d29-b870-5c9c8789db9c",
     "showTitle": true,
     "title": "Vendedores do Japão com email mascarado"
    }
   },
   "outputs": [
    {
     "output_type": "stream",
     "name": "stdout",
     "output_type": "stream",
     "text": [
      "+-------+---------+--------------------+\n|   nome|sobrenome|        masked_email|\n+-------+---------+--------------------+\n|   Mami|    Nishi|xxxxx@classicmode...|\n|Yoshimi|     Kato|xxxxx@classicmode...|\n+-------+---------+--------------------+\n\nTabela Delta vendedores criada no schema silver\n"
     ]
    }
   ],
   "source": [
    "# Carregar o DataFrame\n",
    "df = spark.table(\"bronze.employees\").alias(\"e\") \\\n",
    "    .join(spark.table(\"bronze.offices\").alias(\"o\"), F.col(\"e.office_code\") == F.col(\"o.office_code\")) \\\n",
    "    .filter(F.col(\"o.country\") == \"Japan\") \\\n",
    "    .filter(F.col(\"job_Title\") == \"Sales Rep\" )\n",
    "\n",
    "# Mascara o local-part do e-mail\n",
    "df_masked = df.withColumn(\n",
    "    \"masked_email\",\n",
    "    F.concat(\n",
    "        F.lit(\"xxxxx\"),\n",
    "        F.substring(F.col(\"e.email\"), F.instr(F.col(\"e.email\"), \"@\"), F.length(F.col(\"e.email\")))\n",
    "    )\n",
    ").select(\n",
    "    F.col(\"e.first_name\").alias(\"nome\"),\n",
    "    F.col(\"e.last_name\").alias(\"sobrenome\"),\n",
    "    F.col(\"masked_email\")\n",
    ")\n",
    "\n",
    "# Mostrar Valores\n",
    "df_masked.show(100)\n",
    "\n",
    "# Salvar o DataFrame no schema silver como uma tabela Hive\n",
    "df_masked.write \\\n",
    "    .mode(\"overwrite\") \\\n",
    "    .option(\"mergeSchema\", \"true\") \\\n",
    "    .saveAsTable(\"silver.vendedores\")\n",
    "\n",
    "\n",
    "print(f\"Tabela Delta vendedores criada no schema silver\")  "
   ]
  }
 ],
 "metadata": {
  "application/vnd.databricks.v1+notebook": {
   "dashboards": [],
   "environmentMetadata": null,
   "language": "python",
   "notebookMetadata": {
    "mostRecentlyExecutedCommandWithImplicitDF": {
     "commandId": 2101652889805635,
     "dataframes": [
      "_sqldf"
     ]
    },
    "pythonIndentUnit": 4
   },
   "notebookName": "CASE JOIN",
   "widgets": {}
  }
 },
 "nbformat": 4,
 "nbformat_minor": 0
}
